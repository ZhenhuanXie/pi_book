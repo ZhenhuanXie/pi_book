{
 "cells": [
  {
   "cell_type": "markdown",
   "metadata": {},
   "source": [
    "(code_details)=\n",
    "# Code Details\n",
    "\n",
    "This section serves as a demonstration on how to use ExpansionSuite code to solve recursive models.\n",
    "\n",
    "We start by assigning values to model parameters and defining equilibrium conditions. We decide to include the following variables as $X_t$ and $X_{t+1}$ in expansion.\n",
    "\n",
    "For the **internal habit** specification, the first **6** variables in the table below are considered as **jump variables**, and the last **6** are considered as **state variables**. \n",
    "\n",
    "For the **external habit** specification, we don't have $\\frac{MH_t}{MU_t}$ in the model, and all the other variables are still there, so there will be **5 controls and 6 states**. <font color='red'>LPH indicated that he didn't like the naming of \"control\" and \"state\". There will be a new terminology in the future.</font><font color='red'>LPH indicated that he didn't like the naming of \"control\" and \"state\". There will be a new terminology in the future.</font>\n",
    "\n",
    "To avoid any confusion, the table below also provides the name of variables in the code to connect them with their math expressions.\n",
    "\n",
    "| Python Index | Code name | Corresponding $X_t$ variable| Code name | Corresponding $X_{t+1}$ Variable| Category |\n",
    "|:-:|:---------:|:---------:|:---------:|:---------:|:---------:|\n",
    "|0|`vmy_t`|$\\log\\left(\\frac{V_t}{Y_t}\\right)$|`vmy_tp1`|$\\log\\left(\\frac{V_{t+1}}{Y_{t+1}}\\right)$ | jump\n",
    "|1|`rmy_t`|$\\log\\left(\\frac{R_t}{Y_t}\\right)$|`rmy_tp1`|$\\log\\left(\\frac{R_{t+1}}{Y_{t+1}}\\right)$ | jump\n",
    "|2|`umy_t`|$\\log\\left(\\frac{U_t}{Y_t}\\right)$|`umy_tp1`|$\\log\\left(\\frac{U_{t+1}}{Y_{t+1}}\\right)$ | jump\n",
    "|3|`cmy_t`|$\\log\\left(\\frac{C_t}{Y_t}\\right)$|`cmy_tp1`|$\\log\\left(\\frac{C_{t+1}}{Y_{t+1}}\\right)$ | jump\n",
    "|4|`mhmu_t`|$\\log\\left(\\frac{MH_t}{MU_t}\\right)$|`mhmu_tp1`|$\\log\\left(\\frac{MH_{t+1}}{MU_{t+1}}\\right)$| jump\n",
    "|5|`mcmu_t`|$\\log\\left(\\frac{MC_t}{MU_t}\\right)$|`mcmu_tp1`|$\\log\\left(\\frac{MC_{t+1}}{MU_{t+1}}\\right)$| jump\n",
    "|6|`IoverY_t`|$\\frac{K_{t+1}-K_{t}}{Y_{t}}$|`IoverY_tp1`|$\\frac{K_{t+2}-K_{t+1}}{Y_{t+1}}$| jump\n",
    "|7|`hmy_t`|$\\log\\left(\\frac{H_t}{Y_t}\\right)$|`hmy_tp1`|$\\log\\left(\\frac{H_{t+1}}{Y_{t+1}}\\right)$| state\n",
    "|8|`KoverY_t`|$\\frac{K_t}{Y_t}$|`KoverY_tp1`|$\\frac{K_{t+1}}{Y_{t+1}}$| state\n",
    "|9|`gy_t`|$\\log\\left(\\frac{Y_t}{Y_{t-1}}\\right)$|`gy_tp1`| $\\log\\left(\\frac{Y_{t+1}}{Y_t}\\right)$| state\n",
    "|10|`z1_t`|$Z_{1,t}$|`z1_tp1`|$Z_{1,t+1}$| state\n",
    "|11|`z2_t`|$Z_{2,t}$|`z2_tp1`|$Z_{2,t+1}$| state\n",
    "|12|`z2l_t`|$Z_{2,t-1}$|`z2l_tp1`|$Z_{2,t}$| state\n",
    "\n",
    "Note that $KoverY_t \\equiv \\frac{K_t}{Y_t}$ is approximated as its level rather than logarithm in this model, because we intend to allow for negative capital (borrowing) in the evolution of $\\frac{K_t}{Y_t}$, as actually happens in so-called open economy models."
   ]
  },
  {
   "cell_type": "markdown",
   "metadata": {},
   "source": [
    "## User Input 1: Equilibrium Conditions"
   ]
  },
  {
   "cell_type": "code",
   "execution_count": 1,
   "metadata": {},
   "outputs": [],
   "source": [
    "import numpy as np\n",
    "import autograd.numpy as anp\n",
    "\n",
    "# Model parameters\n",
    "γ = 10.\n",
    "ρ = 2./3\n",
    "\n",
    "χ = 0.9\n",
    "α = 0.9\n",
    "ϵ = 10.\n",
    "\n",
    "a = .00663 # risk free growth rate of capital\n",
    "g = .00373 # deterministic growth trend of income\n",
    "A = np.array([[.704, 0, 0],[0, 1, -.154],[0,1,0]])\n",
    "B = np.array([[0.144,0],[0,0.206],[0,0]])\n",
    "\n",
    "internal = True #True: internal habit; False: external habit.\n",
    "\n",
    "KoverY_ss = 0.\n",
    "\n",
    "args = (γ, ρ, χ, α, ϵ, a, g, A, B, internal, KoverY_ss)\n",
    "\n",
    "'''\n",
    "f=[f1,f2] which satisfy E[Mf1] = 0 and f2=0.\n",
    "\n",
    "'''\n",
    "def eq_cond(X_t, X_tp1, W_tp1, q, *args):\n",
    "    # Parameters for the model\n",
    "    γ, ρ, χ, α, ϵ, a, g, A, B, internal, _ = args\n",
    "\n",
    "    # Variables:\n",
    "    # log V_t/Y_t, log R_t/Y_t, log U_t/Y_t, log C_t/Y_t,log MH_t/MU_t, log MC_t/MU_t, I_t/Y_t - JUMP VARIABLES\n",
    "    # log H_t/Y_t, K_t/Y_t, log(Y_t/Y_{t-1}), Z_{1,t}, Z_{2,t}, Z_{2,t-1} - STATE VARIABLES\n",
    "    if internal:\n",
    "        vmy_t, rmy_t, umy_t, cmy_t, mhmu_t,mcmu_t, IoverY_t, \\\n",
    "            hmy_t, KoverY_t, gy_t, z1_t, z2_t, z2l_t= X_t.ravel()\n",
    "        vmy_tp1, rmy_tp1, umy_tp1, cmy_tp1, mhmu_tp1, mcmu_tp1, IoverY_tp1, \\\n",
    "            hmy_tp1, KoverY_tp1, gy_tp1, z1_tp1, z2_tp1, z2l_tp1= X_tp1.ravel()\n",
    "    else:\n",
    "        vmy_t, rmy_t, umy_t, cmy_t, mcmu_t, IoverY_t, \\\n",
    "            hmy_t, KoverY_t, gy_t, z1_t, z2_t, z2l_t= X_t.ravel()\n",
    "        vmy_tp1, rmy_tp1, umy_tp1, cmy_tp1, mcmu_tp1, IoverY_tp1, \\\n",
    "            hmy_tp1, KoverY_tp1, gy_tp1, z1_tp1, z2_tp1, z2l_tp1= X_tp1.ravel()\n",
    "\n",
    "    # Exogenous states (stacked together)\n",
    "    Z_t = anp.array([z1_t, z2_t, z2l_t])\n",
    "    Z_tp1 = anp.array([z1_tp1, z2_tp1, z2l_tp1])\n",
    "\n",
    "    # log SDF in units of U, EXCLUDING the change of measure term\n",
    "    β = anp.exp(g * ρ - anp.log(1 + a))\n",
    "    sdf_u = anp.log(β) + (ρ - 1) * (vmy_tp1 + gy_tp1 - rmy_t) - ρ * (umy_tp1 + gy_tp1 - umy_t)\n",
    "    sdf_ex = sdf_u + mcmu_tp1 - mcmu_t\n",
    "\n",
    "    # Eq0: Change of measure evaluated at γ=0. --- (2) in Section 1\n",
    "    # THIS CHANGE OF MEASURE EQUATION MUST BE THE FIRST EQUATION. Order of others doesn't matter.\n",
    "    m = vmy_tp1 + gy_tp1 - rmy_t\n",
    "    # Eq1: Recursive utility --- (1) in Section 1\n",
    "    if ρ == 1.:\n",
    "        res_1 = anp.exp((1-β)*umy_t) * anp.exp(β*rmy_t) - anp.exp(vmy_t)\n",
    "    else:\n",
    "        res_1 = (1-β)*anp.exp((1-ρ)*(umy_t)) + β*anp.exp((1-ρ)*(rmy_t)) - anp.exp((1-ρ)*(vmy_t))\n",
    "    # Eq2: Utility function --- (3) in Section 1\n",
    "    if ϵ == 1.:\n",
    "        res_2 = anp.exp((1-α)*cmy_t) * anp.exp(α*hmy_t) - anp.exp(umy_t)\n",
    "    else:\n",
    "        res_2 = anp.log((1-α)*anp.exp((1-ϵ)*cmy_t)+α*anp.exp((1-ϵ)*hmy_t))/(1-ϵ) - (umy_t)\n",
    "    # Eq3: FOC on investment --- (9) in Section 1\n",
    "    res_3 = anp.log(1+a) + sdf_ex\n",
    "    if internal:\n",
    "        # Eq4: MC/MU --- (8-a) in Section 1\n",
    "        res_4 = (1-α)*anp.exp(ϵ*(umy_t-cmy_t)) + (1-χ)*anp.exp(sdf_u+mhmu_tp1) - anp.exp(mcmu_t)\n",
    "        # Eq5: MH/MU --- (8-b) in Section 1\n",
    "        res_5 = α*anp.exp(ϵ*(umy_t-hmy_t)) + χ*anp.exp(sdf_u+mhmu_tp1) - anp.exp(mhmu_t)\n",
    "    else:\n",
    "        # Eq4: MC/MU --- (8) in Section 1. No MH/MU when external.\n",
    "        res_4 = (1-α)*anp.exp(ϵ*(umy_t-cmy_t)) - anp.exp(mcmu_t)\n",
    "    # Eq6: Capital growth --- (5-b) in Section 1\n",
    "    res_6 = KoverY_tp1 * anp.exp(gy_tp1) + anp.exp(cmy_t) - ((1+a)*KoverY_t + 1)\n",
    "    # Eq7: Habit evolution --- (4) in Section 1\n",
    "    res_7 = anp.exp(hmy_tp1+gy_tp1) - χ*anp.exp(hmy_t) - (1-χ)*anp.exp(cmy_t)\n",
    "    # Eq8: Nonfinancial income process --- (6) in Section 1\n",
    "    res_8 = gy_tp1 - .01 * (z1_tp1 + z2_tp1 - z2_t) - g\n",
    "    # Eq9-11: State process  --- (7) in Section 1\n",
    "    res_9 = (A@Z_t + B@W_tp1 - Z_tp1)[0]\n",
    "    res_10 = (A@Z_t + B@W_tp1 - Z_tp1)[1]\n",
    "    res_11 = (A@Z_t + B@W_tp1 - Z_tp1)[2]\n",
    "    \n",
    "    res_12 = KoverY_tp1 * anp.exp(gy_tp1) - KoverY_t - IoverY_t\n",
    "    \n",
    "    if internal:\n",
    "        return anp.array([m, res_1,res_2,res_3,res_4,res_5,res_6,res_7,res_12, res_8,res_9, res_10, res_11])\n",
    "    else:\n",
    "        return anp.array([m, res_1,res_2,res_3,res_4,res_6,res_7,res_12, res_8,res_9, res_10, res_11])"
   ]
  },
  {
   "cell_type": "markdown",
   "metadata": {},
   "source": [
    "## User Input 2: Steady States\n",
    "After having parameters and equilibrium conditions defined, we also need to define a function that returns the deterministic steady state (0th order expansion) value of model variables.\n",
    "\n",
    "For this model, we have a free initial condition that can be imposed on $\\frac{K_0^0}{Y_0^0}$, i.e. there is a family of steady states indexed by $\\frac{K_0^0}{Y_0^0}$ subject to the restriction $\\frac{C_0^0}{Y_0^0} > 0$ (otherwise we cannot take the logarithm of it).\n",
    "\n",
    "In the following example, we impose $\\frac{K_0^0}{Y_0^0} = 0$ as its deterministic steady state value. Once this is imposed, we can solve for the steady state value of others with some effort in algebra."
   ]
  },
  {
   "cell_type": "code",
   "execution_count": 2,
   "metadata": {},
   "outputs": [],
   "source": [
    "def ss_func(*args):\n",
    "\n",
    "    '''\n",
    "    User-defined function to calculate steady states.\n",
    "\n",
    "    Alternatively, users can simply provide a hard-coded np.array for steady states.\n",
    "\n",
    "    '''\n",
    "    \n",
    "    # Extra parameters for the model\n",
    "    γ, ρ, χ, α, ϵ, a, g, A, B, internal, KoverY_ss = args\n",
    "    \n",
    "    KoverY = KoverY_ss # This is a condition that we can freely impose\n",
    "    β = np.exp(g * ρ - np.log(1+a)) # From FOC (9)\n",
    "    gy = g # From (6). This is just the deterministic growth trend of income\n",
    "\n",
    "    # Starting from the steady state of Y_{t+1}/Y_{t} and K/Y,\n",
    "    # we can solve the steady state of other variables by hand:\n",
    "    cmy = np.log(((1+a) - np.exp(g)) * KoverY + 1) # From (5-b)\n",
    "    hmy = np.log(1-χ) + cmy - np.log((np.exp(g) - χ)) # From (4)\n",
    "    if ϵ == 1.:\n",
    "        umy = (1-α)*cmy + α*hmy # From (3) special case\n",
    "    else:\n",
    "        umy = np.log((1-α)*np.exp((1-ϵ)*cmy) + α * np.exp((1-ϵ)*hmy)) / (1-ϵ) # From (3)\n",
    "\n",
    "    λ = β * np.exp((1-ρ)*g)\n",
    "    \n",
    "    if ρ == 1.:\n",
    "        vmy = (1-β)*umy + β*rmy # From (1) special case\n",
    "    else:\n",
    "        vmy = (np.log((1-β)*np.exp((1-ρ)*umy)) - np.log(1-λ)) / (1-ρ) # From (1)\n",
    "    rmy = vmy + gy # From (2)\n",
    "    \n",
    "    IoverY = KoverY*(np.exp(gy)-1)\n",
    "    \n",
    "    # steady state of Z components (=0, by stationarity of the two AR process)\n",
    "    z1 = 0.\n",
    "    z2 = 0.\n",
    "    z2l = 0.\n",
    "    \n",
    "    if internal:\n",
    "        mhmu = np.log(α) + ϵ * (umy - hmy) - np.log(1 - χ * β * np.exp(-g * ρ)) # From (8'-b)\n",
    "        mcmu = np.log((1-α) * np.exp(ϵ * (umy - cmy)) + (1 - χ) * β * np.exp(-g * ρ) * np.exp(mhmu)) # From (8'-a)\n",
    "        X_0 = np.array([vmy, rmy, umy, cmy, mhmu, mcmu, IoverY, hmy, KoverY, gy, z1, z2, z2l])\n",
    "        \n",
    "    else:\n",
    "        mcmu = np.log((1-α) * np.exp(ϵ * (umy - cmy))) # From (8)\n",
    "        X_0 = np.array([vmy, rmy, umy, cmy, mcmu, IoverY, hmy, KoverY, gy, z1, z2, z2l])\n",
    "        \n",
    "    return X_0"
   ]
  },
  {
   "cell_type": "markdown",
   "metadata": {},
   "source": [
    "## Solving (Approximate) Equilibrium Law of Motion\n",
    "Once we have the above two pieces of user inputs at hand, we are ready to apply small-noise expansion method to solve for (approximate) the equilibrium law of motion of every variable in the model. Let's first try a 1st order approximation."
   ]
  },
  {
   "cell_type": "code",
   "execution_count": 3,
   "metadata": {},
   "outputs": [
    {
     "name": "stderr",
     "output_type": "stream",
     "text": [
      "/opt/anaconda3/lib/python3.8/site-packages/autograd/tracer.py:14: UserWarning: Output seems independent of input.\n",
      "  warnings.warn(\"Output seems independent of input.\")\n"
     ]
    }
   ],
   "source": [
    "from expansion import recursive_expansion\n",
    "\n",
    "if internal:\n",
    "    var_shape = (7,6,2) # (number of controls, number of states, number of shocks)\n",
    "else:\n",
    "    var_shape = (6,6,2)\n",
    "\n",
    "modelSol = recursive_expansion(eq_cond=eq_cond,\n",
    "                               ss=ss_func,\n",
    "                               var_shape=var_shape, \n",
    "                               γ=args[0],\n",
    "                               second_order=False,# False: only 1st order expansion; True: include 2nd order expansion\n",
    "                               args=args)"
   ]
  },
  {
   "cell_type": "markdown",
   "metadata": {},
   "source": [
    "The approximate law of motion given by small-noise expansion method takes the form of a familiar **linear state-space system**: It represents $X_{t+1}$, **all variables** (including both control variables and state variables) at time $t+1$, only using **state variables** at time $t$ and **shock** at time $t+1$. \n",
    "\n",
    "If we partition $X_{t} = \\begin{bmatrix} Y_t\\\\ Z_t\\end{bmatrix}$ where $Y_t$ and $Z_t$ stand for time $t$ control and state variables respectively, the first order approximation of $X_{t+1} $ will take the form\n",
    "\n",
    "\\begin{align*}\n",
    "    Y_{t+1}^1 &= D Z_{t}^1 + F W_{t+1} + H\\\\\n",
    "    Z_{t+1}^1 &= A Z_{t}^1 + B W_{t+1} + C\n",
    "\\end{align*}\n",
    "or\n",
    "\\begin{equation*}\n",
    "    X_{t+1}^1 = \\begin{bmatrix} D\\\\A \\end{bmatrix} Z_t^1 + \\begin{bmatrix} F\\\\B \\end{bmatrix} W_{t+1} + \\begin{bmatrix} H\\\\C \\end{bmatrix}\n",
    "\\end{equation*}\n",
    "\n",
    "<!-- \n",
    "The second order approximation of $X_{t+1}$ will have a bit complicated structure:\n",
    "\n",
    "\\begin{align*}\n",
    "    Y_{t+1}^2 &= D Z_{t}^1 + F W_{t+1} + H\\\\\n",
    "    Z_{t+1}^2 &= A Z_{t}^1 + B W_{t+1} + C\n",
    "\\end{align*} -->\n",
    "\n",
    "Let's print the first order coefficients out in the approximation that we just ran. You can easily tell what are the corresponding matrices $D$, $F$, $A$, $B$, $H$ and $C$. These coefficients are represented in a dictionary, so if you need the value of a specific coefficient matrix, you can conveniently extract it from the dictionary using the corresponding key 'c', 'w' or 'x'.\n",
    "\n",
    "<font color='red'>Second order approximation takes a bit more complicated structure. I haven't written it down.</font>"
   ]
  },
  {
   "cell_type": "code",
   "execution_count": 4,
   "metadata": {},
   "outputs": [
    {
     "data": {
      "text/plain": [
       "{'c': array([[-0.034644],\n",
       "        [-0.034744],\n",
       "        [-0.      ],\n",
       "        [ 0.      ],\n",
       "        [ 0.000184],\n",
       "        [ 0.000191],\n",
       "        [ 0.      ],\n",
       "        [ 0.      ],\n",
       "        [ 0.      ],\n",
       "        [ 0.      ],\n",
       "        [ 0.      ],\n",
       "        [ 0.      ],\n",
       "        [ 0.      ]]),\n",
       " 'w': array([[ 0.00327 , -0.002023],\n",
       "        [ 0.003283, -0.002023],\n",
       "        [-0.001108, -0.002057],\n",
       "        [ 0.003045, -0.002025],\n",
       "        [ 0.000491,  0.000004],\n",
       "        [-0.003007, -0.000024],\n",
       "        [-0.003045,  0.002025],\n",
       "        [-0.00144 , -0.00206 ],\n",
       "        [ 0.      ,  0.      ],\n",
       "        [ 0.00144 ,  0.00206 ],\n",
       "        [ 0.144   ,  0.      ],\n",
       "        [ 0.      ,  0.206   ],\n",
       "        [ 0.      ,  0.      ]]),\n",
       " 'x': array([[ 0.022513,  0.002828,  0.      ,  0.015984, -0.009595,  0.001512],\n",
       "        [ 0.020151,  0.002835,  0.      ,  0.01604 , -0.009618,  0.001512],\n",
       "        [ 0.841974,  0.000457,  0.      , -0.003318, -0.001551,  0.001536],\n",
       "        [ 0.064614,  0.002706,  0.      ,  0.014992, -0.009182,  0.001514],\n",
       "        [-0.09187 ,  0.000266,  0.      ,  0.002164, -0.000902, -0.000003],\n",
       "        [ 0.562755, -0.001628,  0.      , -0.013255,  0.005524,  0.000016],\n",
       "        [-0.065087,  0.003925,  0.      , -0.015137,  0.009242, -0.001513],\n",
       "        [ 0.904058,  0.000278,  0.      , -0.00478 , -0.000942,  0.001537],\n",
       "        [-0.071416,  1.000207,  0.      , -0.021785,  0.009078,  0.000026],\n",
       "        [ 0.      ,  0.      ,  0.      ,  0.00704 ,  0.      , -0.00154 ],\n",
       "        [ 0.      ,  0.      ,  0.      ,  0.704   ,  0.      ,  0.      ],\n",
       "        [ 0.      ,  0.      ,  0.      ,  0.      ,  1.      , -0.154   ],\n",
       "        [ 0.      ,  0.      ,  0.      ,  0.      ,  1.      ,  0.      ]])}"
      ]
     },
     "execution_count": 4,
     "metadata": {},
     "output_type": "execute_result"
    }
   ],
   "source": [
    "np.set_printoptions(precision=6,suppress=True)\n",
    "modelSol.X1_tp1.coeffs # First order LOM coefficients"
   ]
  },
  {
   "cell_type": "markdown",
   "metadata": {},
   "source": [
    "With the law of motion at hand, it would be a piece of cake to perform tasks such as simulation, or compute important quantities that reflect the dynamics in the model, for example, impulse response functions. The ExpansionSuite code provides such functionalities.\n",
    "\n",
    "## Simulation\n",
    "Suppose we are interested in knowing how the model variable $\\log(\\frac{C_t}{Y_t})$ evolves over time if it follows the (approximate) equilibrium law of motion. We just need to generate shocks throughout the horizon that we are interested in (for example, 100 periods), and feed the shocks to the `simulate` method of `modelSol`.\n",
    "\n",
    "In the cell below, we first try 0 shocks (i.e. examine the deterministic path) and then try bivariate standard normal shocks."
   ]
  },
  {
   "cell_type": "code",
   "execution_count": 5,
   "metadata": {},
   "outputs": [
    {
     "data": {
      "image/png": "[encoded data removed]",
      "text/plain": [
       "<Figure size 432x288 with 1 Axes>"
      ]
     },
     "metadata": {
      "filenames": {
       "image/png": "/Users/zhenhuanxie/Dropbox/pi_book-master/_build/jupyter_execute/notebook2_10_0.png"
      },
      "needs_background": "light"
     },
     "output_type": "display_data"
    }
   ],
   "source": [
    "T = 100 # time horizon for simulation\n",
    "_, _, n_W = modelSol.var_shape # the number of shocks within this model\n",
    "Ws_1 = np.zeros((T,n_W)) # \"generate\" zero shocks throughout the horizon T=100\n",
    "sim_result_1 = modelSol.simulate(Ws_1) # feed the generated shocks to the simulate method\n",
    "\n",
    "Ws_2 = np.random.multivariate_normal(np.zeros(n_W), np.eye(n_W), size = T) # generate N(0,I) shocks\n",
    "sim_result_2 = modelSol.simulate(Ws_2) # feed the generated shocks to the simulate method\n",
    "\n",
    "import matplotlib.pyplot as plt\n",
    "# sim_result contains the simulated value of all 12 model variables over the specified horizon\n",
    "# recall that we arranged log(C_t/Y_t) as the 4th control variable, and python index starts from 0\n",
    "plt.plot(sim_result_1[:,3], 'r', lw = .8, alpha = .8, label = 'deterministic') \n",
    "plt.plot(sim_result_2[:,3], 'b', lw = .8, alpha = .8, label = 'stochastic')\n",
    "plt.legend()\n",
    "plt.title(r'$\\log(\\frac{C_t}{Y_t})$ simulation')\n",
    "plt.show()"
   ]
  },
  {
   "cell_type": "markdown",
   "metadata": {},
   "source": [
    "It turns out that in equilibrium, the deterministic path of $\\log(\\frac{C_t}{Y_t})$ is $\\log(\\frac{C_t}{Y_t}) \\equiv 0$ for any $t$, and the stochastic path oscillate around the deterministic path. This implies that consumption and income have the same deterministic growth rate in equilibrium, which doesn't come as a surprise (as expected from the FOC on investment)."
   ]
  },
  {
   "cell_type": "markdown",
   "metadata": {},
   "source": [
    "## Computing Impulse Response Functions\n",
    "You may remember this is not the first time that you see impusle response functions in this notebook: Previously, we computed and plotted the IRFs of income process to two shocks, without knowing small-noise expansion at all! At that time, we only made use of the law of motion that $Y_t$ and the two components follow to construct IRFs.\n",
    "\n",
    "Now that we're using small-noise expasion method, we have included a bunch of more variables in the linear space-system, we are able to use the approximate law of motion to construct **\"new\" IRFs** of income, again to the two shocks. How will the \"new\" IRFs look like? We can directly use the `IRF` method of `modelSol` to obtain the results."
   ]
  },
  {
   "cell_type": "code",
   "execution_count": 6,
   "metadata": {},
   "outputs": [
    {
     "data": {
      "image/png": "[encoded data removed]",
      "text/plain": [
       "<Figure size 432x288 with 1 Axes>"
      ]
     },
     "metadata": {
      "filenames": {
       "image/png": "/Users/zhenhuanxie/Dropbox/pi_book-master/_build/jupyter_execute/notebook2_13_0.png"
      },
      "needs_background": "light"
     },
     "output_type": "display_data"
    }
   ],
   "source": [
    "states_IRF = []\n",
    "controls_IRF = []\n",
    "T = 100 # time horizon for IRF computation\n",
    "for shock_index in [0,1]: # we have two shocks for this model\n",
    "    states, controls = modelSol.IRF(T, shock_index)\n",
    "    states_IRF.append(states)\n",
    "    controls_IRF.append(controls)\n",
    "\n",
    "plt.plot(np.cumsum(states_IRF[0][:,2])*100, color='b', lw=0.8, alpha=0.8, label = \"$W_1$\")\n",
    "plt.plot(np.cumsum(states_IRF[1][:,2])*100, color='r', lw=0.8, alpha=0.8, label = \"$W_2$\")\n",
    "plt.legend()\n",
    "plt.xlabel(\"Quarters\")\n",
    "plt.title(\"Impulse Responses of $\\log(Y_t)$\")\n",
    "# plt.savefig(\"IncomeIRF\", dpi = 300)\n",
    "plt.show()"
   ]
  },
  {
   "cell_type": "markdown",
   "metadata": {},
   "source": [
    "It turns out that we actually get the same IRFs as we did previously. This is because the approximate law of motion of $\\log(\\frac{Y_{t+1}}{Y_t})$ obtained using small-noise expansion is equivalent to its \"true\" law of motion that we have described in Section 1.2. \n",
    "\n",
    "We can verify this by simply inspecting the coefficients of $\\log(\\frac{Y_{t+1}}{Y_t})$ on **each time $t$ state variable** printed below. Remember, we have 6 control variables and 6 state variables in the model, and $\\log(\\frac{Y_{t+1}}{Y_t})$ is the 3rd state variable. Therefore, the relevant coefficients of $\\log(\\frac{Y_{t+1}}{Y_t})$ is on the 9th row.\n",
    "\n",
    "The coefficients of $\\log(\\frac{Y_{t+1}}{Y_t})$ on $Z_{1,t}$, $Z_{2,t}$ and $Z_{2,t-1}$, $W_{1, t+1}$ and $W_{2, t+1}$ are .00704, 0, -.00154, .00144, .00206, respectively. These numbers are the same as in the \"true\" law of motion. The coefficients on other state variables are 0."
   ]
  },
  {
   "cell_type": "code",
   "execution_count": 7,
   "metadata": {},
   "outputs": [
    {
     "data": {
      "text/plain": [
       "array([[ 0.022513,  0.002828,  0.      ,  0.015984, -0.009595,  0.001512],\n",
       "       [ 0.020151,  0.002835,  0.      ,  0.01604 , -0.009618,  0.001512],\n",
       "       [ 0.841974,  0.000457,  0.      , -0.003318, -0.001551,  0.001536],\n",
       "       [ 0.064614,  0.002706,  0.      ,  0.014992, -0.009182,  0.001514],\n",
       "       [-0.09187 ,  0.000266,  0.      ,  0.002164, -0.000902, -0.000003],\n",
       "       [ 0.562755, -0.001628,  0.      , -0.013255,  0.005524,  0.000016],\n",
       "       [-0.065087,  0.003925,  0.      , -0.015137,  0.009242, -0.001513],\n",
       "       [ 0.904058,  0.000278,  0.      , -0.00478 , -0.000942,  0.001537],\n",
       "       [-0.071416,  1.000207,  0.      , -0.021785,  0.009078,  0.000026],\n",
       "       [ 0.      ,  0.      ,  0.      ,  0.00704 ,  0.      , -0.00154 ],\n",
       "       [ 0.      ,  0.      ,  0.      ,  0.704   ,  0.      ,  0.      ],\n",
       "       [ 0.      ,  0.      ,  0.      ,  0.      ,  1.      , -0.154   ],\n",
       "       [ 0.      ,  0.      ,  0.      ,  0.      ,  1.      ,  0.      ]])"
      ]
     },
     "execution_count": 7,
     "metadata": {},
     "output_type": "execute_result"
    }
   ],
   "source": [
    "modelSol.X1_tp1['x']"
   ]
  },
  {
   "cell_type": "code",
   "execution_count": 8,
   "metadata": {},
   "outputs": [
    {
     "data": {
      "text/plain": [
       "array([[ 0.00327 , -0.002023],\n",
       "       [ 0.003283, -0.002023],\n",
       "       [-0.001108, -0.002057],\n",
       "       [ 0.003045, -0.002025],\n",
       "       [ 0.000491,  0.000004],\n",
       "       [-0.003007, -0.000024],\n",
       "       [-0.003045,  0.002025],\n",
       "       [-0.00144 , -0.00206 ],\n",
       "       [ 0.      ,  0.      ],\n",
       "       [ 0.00144 ,  0.00206 ],\n",
       "       [ 0.144   ,  0.      ],\n",
       "       [ 0.      ,  0.206   ],\n",
       "       [ 0.      ,  0.      ]])"
      ]
     },
     "execution_count": 8,
     "metadata": {},
     "output_type": "execute_result"
    }
   ],
   "source": [
    "modelSol.X1_tp1['w']"
   ]
  }
 ],
 "metadata": {
  "kernelspec": {
   "display_name": "Python 3",
   "language": "python",
   "name": "python3"
  },
  "language_info": {
   "codemirror_mode": {
    "name": "ipython",
    "version": 3
   },
   "file_extension": ".py",
   "mimetype": "text/x-python",
   "name": "python",
   "nbconvert_exporter": "python",
   "pygments_lexer": "ipython3",
   "version": "3.8.11"
  }
 },
 "nbformat": 4,
 "nbformat_minor": 4
}